{
 "cells": [
  {
   "cell_type": "code",
   "execution_count": 1,
   "metadata": {},
   "outputs": [
    {
     "name": "stderr",
     "output_type": "stream",
     "text": [
      "Using TensorFlow backend.\n"
     ]
    }
   ],
   "source": [
    "import matplotlib.pyplot as plt\n",
    "import numpy as np\n",
    "from keras.utils import to_categorical\n",
    "import os\n",
    "import cv2\n",
    "from tqdm import tqdm\n",
    "import random\n",
    "import pickle\n",
    "import tensorflow as tf\n",
    "from tensorflow.keras.models import Sequential\n",
    "from tensorflow.keras.layers import Dense, Dropout, Activation, Flatten\n",
    "from tensorflow.keras.layers import Conv2D, MaxPooling2D\n",
    "from keras.preprocessing.image import ImageDataGenerator\n",
    "from tensorflow.keras.callbacks import TensorBoard\n",
    "from sklearn.model_selection import train_test_split\n",
    "from sklearn.metrics import classification_report"
   ]
  },
  {
   "cell_type": "code",
   "execution_count": 2,
   "metadata": {},
   "outputs": [
    {
     "name": "stderr",
     "output_type": "stream",
     "text": [
      "100%|██████████| 185/185 [00:02<00:00, 68.83it/s]\n",
      "100%|██████████| 190/190 [00:01<00:00, 133.74it/s]\n",
      "100%|██████████| 190/190 [00:01<00:00, 114.83it/s]\n",
      "100%|██████████| 196/196 [00:01<00:00, 102.94it/s]\n",
      "100%|██████████| 187/187 [00:01<00:00, 97.22it/s] \n",
      "100%|██████████| 201/201 [00:04<00:00, 48.49it/s]\n"
     ]
    }
   ],
   "source": [
    "DATADIR = \"/Users/ryanklapper/Desktop/2020/Data Science/search-bing-api/dataset/\"\n",
    "\n",
    "CATEGORIES = [\"Bagpipes\",\"Harmonica\",\"Flute\",\"Piano\",\"Saxophone\",\"Guitar\",]\n",
    "training_data = []\n",
    "IMG_SIZE = 350\n",
    "def train():\n",
    "    for category in CATEGORIES:  # iterate each instrument\n",
    "\n",
    "        path = os.path.join(DATADIR,category)  # create path to different instruments\n",
    "        class_num = CATEGORIES.index(category)  # get the classification of each instrument\n",
    "\n",
    "        for img in tqdm(os.listdir(path)):  # iterate over each image in each instrument\n",
    "            try:\n",
    "                img_array = cv2.imread(os.path.join(path,img) ,cv2.IMREAD_GRAYSCALE)  # convert to array\n",
    "                new_array = cv2.resize(img_array, (IMG_SIZE, IMG_SIZE))  # resize to normalize data size\n",
    "                training_data.append([new_array, class_num])  # add this to our training_data\n",
    "            except Exception as e:\n",
    "                pass\n",
    "            \n",
    "train()\n",
    "# Shuffling data so each instrument is trained without bias\n",
    "random.shuffle(training_data)\n",
    "\n",
    "X = []\n",
    "y = []\n",
    "for music_features,music_label in training_data:\n",
    "    X.append(music_features)\n",
    "    y.append(music_label)\n",
    "\n",
    "X = np.array(X).reshape(-1, IMG_SIZE, IMG_SIZE, 1)\n",
    "y = np.array(y)\n",
    "X_train, X_val, y_train, y_val = train_test_split(X, y, test_size=0.2, random_state=13)\n",
    "input_shape = (IMG_SIZE, IMG_SIZE, 1)\n",
    "\n",
    "# Prepare the training images\n",
    "X_train = X_train.reshape(X_train.shape[0], IMG_SIZE, IMG_SIZE, 1)\n",
    "X_train = X_train.astype('float32')\n",
    "X_train /= 255\n",
    "\n",
    "# Prepare the validation images\n",
    "X_val = X_val.reshape(X_val.shape[0], IMG_SIZE, IMG_SIZE, 1)\n",
    "X_val = X_val.astype('float32')\n",
    "X_val /= 255"
   ]
  },
  {
   "cell_type": "code",
   "execution_count": 3,
   "metadata": {},
   "outputs": [
    {
     "name": "stderr",
     "output_type": "stream",
     "text": [
      "100%|██████████| 7294/7294 [05:53<00:00, 20.66it/s]\n"
     ]
    }
   ],
   "source": [
    "DATADIR_TEST = \"/Users/ryanklapper/Desktop/2020/Data Science/images\"\n",
    "testing_data = []\n",
    "def test():\n",
    "    for img in tqdm(os.listdir(DATADIR_TEST)): # iterate over each image in ISS Dataset\n",
    "        try:\n",
    "            img_test_array = cv2.imread(os.path.join(DATADIR_TEST,img) ,cv2.IMREAD_GRAYSCALE) # convert to array\n",
    "            new_test_array = cv2.resize(img_test_array, (IMG_SIZE, IMG_SIZE)) # resize to normalize data size\n",
    "            testing_data.append([new_test_array])\n",
    "        except Exception as e:\n",
    "            pass\n",
    "test()\n",
    "\n",
    "# Shuffling data so each image is trained without bias\n",
    "random.shuffle(testing_data)\n",
    "X_Test = []\n",
    "\n",
    "# Adding each ISS image to X_Test\n",
    "for iss_images in testing_data:\n",
    "    X_Test.append(iss_images)\n",
    "\n",
    "X_Test = np.array(X).reshape(-1, IMG_SIZE, IMG_SIZE, 1)"
   ]
  },
  {
   "cell_type": "code",
   "execution_count": 4,
   "metadata": {},
   "outputs": [
    {
     "name": "stdout",
     "output_type": "stream",
     "text": [
      "Model: \"sequential\"\n",
      "_________________________________________________________________\n",
      "Layer (type)                 Output Shape              Param #   \n",
      "=================================================================\n",
      "conv2d (Conv2D)              (None, 348, 348, 30)      300       \n",
      "_________________________________________________________________\n",
      "activation (Activation)      (None, 348, 348, 30)      0         \n",
      "_________________________________________________________________\n",
      "max_pooling2d (MaxPooling2D) (None, 174, 174, 30)      0         \n",
      "_________________________________________________________________\n",
      "conv2d_1 (Conv2D)            (None, 172, 172, 30)      8130      \n",
      "_________________________________________________________________\n",
      "activation_1 (Activation)    (None, 172, 172, 30)      0         \n",
      "_________________________________________________________________\n",
      "max_pooling2d_1 (MaxPooling2 (None, 86, 86, 30)        0         \n",
      "_________________________________________________________________\n",
      "flatten (Flatten)            (None, 221880)            0         \n",
      "_________________________________________________________________\n",
      "dense (Dense)                (None, 6)                 1331286   \n",
      "_________________________________________________________________\n",
      "activation_2 (Activation)    (None, 6)                 0         \n",
      "=================================================================\n",
      "Total params: 1,339,716\n",
      "Trainable params: 1,339,716\n",
      "Non-trainable params: 0\n",
      "_________________________________________________________________\n"
     ]
    }
   ],
   "source": [
    "# Creating name of tensorboard\n",
    "NAME = \"Is-Music-Relevant-CNN\"\n",
    "\n",
    "X = X/255.0\n",
    "\n",
    "# Rotating the images for better training\n",
    "gen = ImageDataGenerator(rotation_range=8, width_shift_range=0.08, shear_range=0.3,\n",
    "                               height_shift_range=0.08, zoom_range=0.08)\n",
    "batches = gen.flow(X, y, batch_size=32)\n",
    "val_batches = gen.flow(X_val, y_val, batch_size=32)\n",
    "\n",
    "# Creation of the model\n",
    "model = Sequential()\n",
    "# Layers of the model\n",
    "model.add(Conv2D(30, (3, 3), input_shape=X.shape[1:]))\n",
    "model.add(Activation('relu'))\n",
    "model.add(MaxPooling2D(pool_size=(2, 2), strides=(2, 2)))\n",
    "model.add(Conv2D(30, (3, 3)))\n",
    "model.add(Activation('relu'))\n",
    "model.add(MaxPooling2D(pool_size=(2, 2), strides=(2, 2)))\n",
    "\n",
    "model.add(Flatten())  # this converts our 3D feature maps to 1D feature vectors\n",
    "model.add(Dense(6))\n",
    "model.add(Activation(\"sigmoid\"))\n",
    "\n",
    "# Creation of tensorboard to look at statistics\n",
    "tensorboard = TensorBoard(log_dir=\"logs/{}\".format(NAME))\n",
    "# Compiling the model\n",
    "model.compile(loss='sparse_categorical_crossentropy',\n",
    "              optimizer='adam',\n",
    "              metrics=['accuracy'])\n",
    "# Generating summary of the model\n",
    "model.summary()"
   ]
  },
  {
   "cell_type": "code",
   "execution_count": 16,
   "metadata": {},
   "outputs": [
    {
     "name": "stdout",
     "output_type": "stream",
     "text": [
      "WARNING:tensorflow:sample_weight modes were coerced from\n",
      "  ...\n",
      "    to  \n",
      "  ['...']\n",
      "WARNING:tensorflow:sample_weight modes were coerced from\n",
      "  ...\n",
      "    to  \n",
      "  ['...']\n",
      "Train for 35 steps, validate for 0.3 steps\n",
      "Epoch 1/4\n",
      "35/35 [==============================] - 45s 1s/step - loss: 0.1183 - accuracy: 0.9604 - val_loss: 0.2965 - val_accuracy: 0.9688\n",
      "Epoch 2/4\n",
      "35/35 [==============================] - 45s 1s/step - loss: 0.1183 - accuracy: 0.9559 - val_loss: 0.2946 - val_accuracy: 0.9688\n",
      "Epoch 3/4\n",
      "35/35 [==============================] - 43s 1s/step - loss: 0.1182 - accuracy: 0.9595 - val_loss: 0.2443 - val_accuracy: 0.9688\n",
      "Epoch 4/4\n",
      "35/35 [==============================] - 43s 1s/step - loss: 0.1187 - accuracy: 0.9595 - val_loss: 0.4257 - val_accuracy: 0.9688\n",
      "Test loss: 0.1454662050944301\n",
      "Test accuracy: 0.94925636\n"
     ]
    },
    {
     "data": {
      "image/png": "[encoded data removed]",
      "text/plain": [
       "<Figure size 432x288 with 1 Axes>"
      ]
     },
     "metadata": {
      "needs_background": "light"
     },
     "output_type": "display_data"
    },
    {
     "data": {
      "image/png": "[encoded data removed]",
      "text/plain": [
       "<Figure size 432x288 with 1 Axes>"
      ]
     },
     "metadata": {
      "needs_background": "light"
     },
     "output_type": "display_data"
    },
    {
     "name": "stdout",
     "output_type": "stream",
     "text": [
      "              precision    recall  f1-score   support\n",
      "\n",
      "     Class 0       0.96      0.96      0.96       184\n",
      "     Class 1       0.99      0.92      0.95       189\n",
      "     Class 2       1.00      0.82      0.90       189\n",
      "     Class 3       0.94      1.00      0.97       195\n",
      "     Class 4       0.85      1.00      0.92       186\n",
      "     Class 5       0.98      0.99      0.99       200\n",
      "\n",
      "    accuracy                           0.95      1143\n",
      "   macro avg       0.95      0.95      0.95      1143\n",
      "weighted avg       0.95      0.95      0.95      1143\n",
      "\n",
      "INFO:tensorflow:Assets written to: /Users/ryanklapper/Desktop/2020/Data Science/MachineLearningISS/assets\n"
     ]
    }
   ],
   "source": [
    "action = model.fit_generator(batches, steps_per_epoch=len(X)//32, epochs=4,\n",
    "                    validation_data=val_batches, validation_steps=0.3,callbacks=[tensorboard])\n",
    "test_statistics = model.evaluate(X, y, verbose=0)\n",
    "print('Test loss:', test_statistics[0])\n",
    "print('Test accuracy:', test_statistics[1])\n",
    "%matplotlib inline\n",
    "\n",
    "accuracy = action.history['accuracy']\n",
    "val_accuracy = action.history['val_accuracy']\n",
    "loss = action.history['loss']\n",
    "val_loss = action.history['val_loss']\n",
    "epochs = range(len(accuracy))\n",
    "\n",
    "plt.plot(epochs, accuracy, 'bo', label='Training accuracy')\n",
    "plt.plot(epochs, val_accuracy, 'b', label='Validation accuracy')\n",
    "plt.title('Training and validation accuracy')\n",
    "plt.legend()\n",
    "plt.figure()\n",
    "\n",
    "plt.plot(epochs, loss, 'bo', label='Training loss')\n",
    "plt.plot(epochs, val_loss, 'b', label='Validation loss')\n",
    "plt.title('Training and validation loss')\n",
    "plt.legend()\n",
    "plt.show()\n",
    "\n",
    "predicted_classes = model.predict_classes(X)\n",
    "# get the indices to be plotted\n",
    "y_true = y\n",
    "correct = np.nonzero(predicted_classes==y_true)[0]\n",
    "incorrect = np.nonzero(predicted_classes!=y_true)[0]\n",
    "\n",
    "target_names = ['Class {}'.format(i) for i in range(6)]\n",
    "print(classification_report(y_true, predicted_classes, target_names=target_names))\n",
    "\n",
    "# Saving the model\n",
    "model.save('/Users/ryanklapper/Desktop/2020/Data Science/MachineLearningISS')\n",
    "# To load the model\n",
    "# Recreate the exact same model purely from the file:\n",
    "# model = keras.models.load_model('path_to_my_model.h5')\n"
   ]
  },
  {
   "cell_type": "code",
   "execution_count": 20,
   "metadata": {},
   "outputs": [
    {
     "name": "stdout",
     "output_type": "stream",
     "text": [
      "Model: \"sequential_5\"\n",
      "_________________________________________________________________\n",
      "Layer (type)                 Output Shape              Param #   \n",
      "=================================================================\n",
      "conv2d_10 (Conv2D)           (None, 348, 348, 128)     1280      \n",
      "_________________________________________________________________\n",
      "activation_15 (Activation)   (None, 348, 348, 128)     0         \n",
      "_________________________________________________________________\n",
      "max_pooling2d_10 (MaxPooling (None, 174, 174, 128)     0         \n",
      "_________________________________________________________________\n",
      "conv2d_11 (Conv2D)           (None, 172, 172, 128)     147584    \n",
      "_________________________________________________________________\n",
      "activation_16 (Activation)   (None, 172, 172, 128)     0         \n",
      "_________________________________________________________________\n",
      "max_pooling2d_11 (MaxPooling (None, 86, 86, 128)       0         \n",
      "_________________________________________________________________\n",
      "flatten_5 (Flatten)          (None, 946688)            0         \n",
      "_________________________________________________________________\n",
      "dense_5 (Dense)              (None, 6)                 5680134   \n",
      "_________________________________________________________________\n",
      "activation_17 (Activation)   (None, 6)                 0         \n",
      "=================================================================\n",
      "Total params: 5,828,998\n",
      "Trainable params: 5,828,998\n",
      "Non-trainable params: 0\n",
      "_________________________________________________________________\n",
      "WARNING:tensorflow:sample_weight modes were coerced from\n",
      "  ...\n",
      "    to  \n",
      "  ['...']\n",
      "WARNING:tensorflow:sample_weight modes were coerced from\n",
      "  ...\n",
      "    to  \n",
      "  ['...']\n",
      "Train for 35 steps, validate for 0.3 steps\n",
      "Epoch 1/4\n",
      "35/35 [==============================] - 312s 9s/step - loss: 2.3256 - accuracy: 0.2520 - val_loss: 4.6227 - val_accuracy: 0.6250\n",
      "Epoch 2/4\n",
      "35/35 [==============================] - 356s 10s/step - loss: 1.3037 - accuracy: 0.5203 - val_loss: 4.0840 - val_accuracy: 0.6562\n",
      "Epoch 3/4\n",
      "35/35 [==============================] - 355s 10s/step - loss: 1.1178 - accuracy: 0.6364 - val_loss: 3.0264 - val_accuracy: 0.5625\n",
      "Epoch 4/4\n",
      "35/35 [==============================] - 331s 9s/step - loss: 1.0387 - accuracy: 0.6535 - val_loss: 2.6642 - val_accuracy: 0.8125\n",
      "Test loss: 1.7650968529942364\n",
      "Test accuracy: 0.1959755\n"
     ]
    },
    {
     "data": {
      "image/png": "[encoded data removed]",
      "text/plain": [
       "<Figure size 432x288 with 1 Axes>"
      ]
     },
     "metadata": {
      "needs_background": "light"
     },
     "output_type": "display_data"
    },
    {
     "data": {
      "image/png": "[encoded data removed]",
      "text/plain": [
       "<Figure size 432x288 with 1 Axes>"
      ]
     },
     "metadata": {
      "needs_background": "light"
     },
     "output_type": "display_data"
    },
    {
     "name": "stdout",
     "output_type": "stream",
     "text": [
      "              precision    recall  f1-score   support\n",
      "\n",
      "     Class 0       0.27      0.72      0.39       184\n",
      "     Class 1       0.67      0.01      0.02       189\n",
      "     Class 2       1.00      0.22      0.36       189\n",
      "     Class 3       0.64      0.97      0.78       195\n",
      "     Class 4       0.80      0.88      0.84       186\n",
      "     Class 5       0.98      0.55      0.71       200\n",
      "\n",
      "    accuracy                           0.56      1143\n",
      "   macro avg       0.73      0.56      0.51      1143\n",
      "weighted avg       0.73      0.56      0.52      1143\n",
      "\n"
     ]
    }
   ],
   "source": [
    "gen_test = ImageDataGenerator(rotation_range=8, width_shift_range=0.08, shear_range=0.3,\n",
    "                               height_shift_range=0.08, zoom_range=0.08)\n",
    "batches_test = gen.flow(X_Test, y, batch_size=256)\n",
    "val_batches_test = gen.flow(X_val, y_val, batch_size=256)\n",
    "\n",
    "model_test = Sequential()\n",
    "# Layers of the model\n",
    "model_test.add(Conv2D(128, (3, 3), input_shape=X_Test.shape[1:]))\n",
    "model_test.add(Activation('relu'))\n",
    "model_test.add(MaxPooling2D(pool_size=(2, 2), strides=(2, 2)))\n",
    "model_test.add(Conv2D(128, (3, 3)))\n",
    "model_test.add(Activation('relu'))\n",
    "model_test.add(MaxPooling2D(pool_size=(2, 2), strides=(2, 2)))\n",
    "\n",
    "model_test.add(Flatten())  # this converts our 3D feature maps to 1D feature vectors\n",
    "model_test.add(Dense(6))\n",
    "model_test.add(Activation(\"sigmoid\"))\n",
    "model_test.compile(loss='sparse_categorical_crossentropy',\n",
    "              optimizer='adam',\n",
    "              metrics=['accuracy'])\n",
    "model_test.summary()\n",
    "action_test = model_test.fit_generator(batches, steps_per_epoch=len(X)//32, epochs=4,\n",
    "                    validation_data=val_batches, validation_steps=0.3,callbacks=[tensorboard])\n",
    "\n",
    "test_model_stats = model_test.evaluate(X_Test, y, verbose=0)\n",
    "print('Test loss:', test_model_stats[0])\n",
    "print('Test accuracy:', test_model_stats[1])\n",
    "%matplotlib inline\n",
    "\n",
    "accuracy = action_test.history['accuracy']\n",
    "val_accuracy = action_test.history['val_accuracy']\n",
    "loss = action_test.history['loss']\n",
    "val_loss = action_test.history['val_loss']\n",
    "epochs = range(len(accuracy))\n",
    "\n",
    "plt.plot(epochs, accuracy, 'bo', label='Training accuracy')\n",
    "plt.plot(epochs, val_accuracy, 'b', label='Validation accuracy')\n",
    "plt.title('Training and validation accuracy')\n",
    "plt.legend()\n",
    "plt.figure()\n",
    "\n",
    "plt.plot(epochs, loss, 'bo', label='Training loss')\n",
    "plt.plot(epochs, val_loss, 'b', label='Validation loss')\n",
    "plt.title('Training and validation loss')\n",
    "plt.legend()\n",
    "plt.show()\n",
    "\n",
    "predicted_classes = model.predict_classes(X_Test)\n",
    "# get the indices to be plotted\n",
    "y_true = y\n",
    "correct = np.nonzero(predicted_classes==y_true)[0]\n",
    "incorrect = np.nonzero(predicted_classes!=y_true)[0]\n",
    "\n",
    "target_names = ['Class {}'.format(i) for i in range(6)]\n",
    "print(classification_report(y_true, predicted_classes, target_names=target_names))"
   ]
  },
  {
   "cell_type": "code",
   "execution_count": null,
   "metadata": {},
   "outputs": [],
   "source": []
  }
 ],
 "metadata": {
  "kernelspec": {
   "display_name": "Python 3",
   "language": "python",
   "name": "python3"
  },
  "language_info": {
   "codemirror_mode": {
    "name": "ipython",
    "version": 3
   },
   "file_extension": ".py",
   "mimetype": "text/x-python",
   "name": "python",
   "nbconvert_exporter": "python",
   "pygments_lexer": "ipython3",
   "version": "3.7.4"
  }
 },
 "nbformat": 4,
 "nbformat_minor": 4
}
